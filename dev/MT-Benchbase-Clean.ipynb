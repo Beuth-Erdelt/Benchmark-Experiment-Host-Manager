{
 "cells": [
  {
   "cell_type": "code",
   "execution_count": 1,
   "id": "8752673f-a475-4578-bd9a-12d7bdd0440b",
   "metadata": {},
   "outputs": [],
   "source": [
    "import pandas as pd\n",
    "pd.set_option(\"display.max_rows\", None)\n",
    "pd.set_option('display.max_colwidth', None)\n",
    "#import os\n",
    "#import re\n",
    "import matplotlib.pyplot as plt\n",
    "#import pickle\n",
    "from IPython.display import display, Markdown\n",
    "import seaborn as sns\n",
    "from math import floor\n",
    "import ast\n",
    "import json\n",
    "\n",
    "#import dbmsbenchmarker\n",
    "#import bexhoma\n",
    "from bexhoma import evaluators\n",
    "\n",
    "%matplotlib inline"
   ]
  },
  {
   "cell_type": "code",
   "execution_count": 9,
   "id": "1da1f875-66a1-4dbd-a5c2-15b30793d670",
   "metadata": {},
   "outputs": [],
   "source": [
    "path = r\"C:\\data\\benchmarks\"\n",
    "path = r\"/home/perdelt/benchmarks\""
   ]
  },
  {
   "cell_type": "code",
   "execution_count": 94,
   "id": "4994bac7-f30c-4712-8aa8-c249c215d0b4",
   "metadata": {},
   "outputs": [],
   "source": [
    "def get_workload(code):\n",
    "    with open(path+\"/\"+code+\"/queries.config\",'r') as inp:\n",
    "        workload_properties = ast.literal_eval(inp.read())\n",
    "        return workload_properties\n",
    "\n",
    "\n",
    "def get_performance(evaluation):\n",
    "    df = evaluation.get_df_benchmarking()\n",
    "    df = df.sort_values(['experiment_run', 'client'])\n",
    "    result = df.groupby('client').agg({\n",
    "        'Goodput (requests/second)': 'sum',\n",
    "        'Latency Distribution.Average Latency (microseconds)': 'mean'\n",
    "    }).reset_index()\n",
    "    return result\n",
    "\n",
    "def get_loading_time_max(evaluation):\n",
    "    with open(path+\"/\"+code+\"/connections.config\",'r') as inf:\n",
    "        connections = ast.literal_eval(inf.read())\n",
    "        pretty_connections = json.dumps(connections, indent=2)\n",
    "        #print(pretty_connections)\n",
    "        connections_sorted = sorted(connections, key=lambda c: c['name'])\n",
    "        result = dict()\n",
    "        for c in connections_sorted:\n",
    "            \"\"\"\n",
    "            print(c['name'], \n",
    "                  c['timeLoad'], \n",
    "                  '[s] for', \n",
    "                  c['parameter']['connection_parameter']['loading_parameters']['BENCHBASE_TERMINALS'], \n",
    "                  'threads on',\n",
    "                  c['hostsystem']['node'])\n",
    "            \"\"\"\n",
    "            result[c['name']] = {\n",
    "                'time_load': c['timeLoad'],\n",
    "                'time_ingest': c['timeIngesting'],\n",
    "                'time_check': c['timeIndex'],\n",
    "                'terminals': c['parameter']['connection_parameter']['loading_parameters']['BENCHBASE_TERMINALS'],\n",
    "                #'target': c['parameter']['connection_parameter']['loading_parameters']['BENCHBASE_TARGET'],\n",
    "                'pods': c['parameter']['parallelism'],\n",
    "                'tenant': c['parameter']['TENANT'] if 'TENANT' in c['parameter'] else '',\n",
    "                'client': c['parameter']['client'],\n",
    "            }\n",
    "            #result[c['parameter']['connection_parameter']['loading_parameters']['BENCHBASE_TERMINALS']] = c['timeIngesting']\n",
    "        df = pd.DataFrame(result).T\n",
    "        return df#df['time_load'].max()\n",
    "\n",
    "def show_summary_monitoring_table(evaluate, component):\n",
    "    df_monitoring = list()\n",
    "    ##########\n",
    "    df = evaluate.get_monitoring_metric(metric='total_cpu_util_s', component=component)\n",
    "    df = df.max().sort_index() - df.min().sort_index() # compute difference of counter\n",
    "    #df = df.T.max().sort_index() - df.T.min().sort_index() # compute difference of counter\n",
    "    df_cleaned = pd.DataFrame(df)\n",
    "    df_cleaned.columns = [\"CPU [CPUs]\"]\n",
    "    if not df_cleaned.empty:\n",
    "        df_monitoring.append(df_cleaned.copy())\n",
    "    df = evaluate.get_monitoring_metric(metric='total_cpu_memory', component=component)/1024\n",
    "    #df = evaluate.get_loading_metrics('total_cpu_memory')/1024\n",
    "    df = df.max().sort_index()\n",
    "    df_cleaned = pd.DataFrame(df).round(2)\n",
    "    df_cleaned.columns = [\"Max RAM [Gb]\"]\n",
    "    if not df_cleaned.empty:\n",
    "        df_monitoring.append(df_cleaned.copy())\n",
    "    ##########\n",
    "    df = evaluate.get_monitoring_metric(metric='total_cpu_memory_cached', component=component)/1024\n",
    "    #df = evaluate.get_loading_metrics('total_cpu_memory_cached')/1024\n",
    "    df = df.max().sort_index()\n",
    "    df_cleaned = pd.DataFrame(df)\n",
    "    df_cleaned.columns = [\"Max RAM Cached [Gb]\"]\n",
    "    if not df_cleaned.empty:\n",
    "        df_monitoring.append(df_cleaned.copy())\n",
    "    return df_monitoring\n",
    "\n",
    "def get_monitoring_stream(evaluation):\n",
    "    df_monitoring = show_summary_monitoring_table(evaluation, \"stream\")\n",
    "    if len(df_monitoring) > 0:\n",
    "        print(\"\\n### Stream SUT\")\n",
    "        df = pd.concat(df_monitoring, axis=1).round(2)\n",
    "        df = df.reindex(index=evaluators.natural_sort(df.index))\n",
    "        # If your DataFrame is named df and the index is a string like 'PostgreSQL-1-1-1024-0-1'\n",
    "        df = df.copy()  # avoid modifying original\n",
    "        df['client'] = df.index.str.rsplit('-', n=1).str[-1]\n",
    "        #print(df)\n",
    "        result = df.groupby('client').agg({\n",
    "            'CPU [CPUs]': 'sum',\n",
    "            'Max RAM [Gb]': 'sum',\n",
    "            'Max RAM Cached [Gb]': 'sum',\n",
    "        }).reset_index()\n",
    "        return result\n"
   ]
  },
  {
   "cell_type": "markdown",
   "id": "d4eaf03b-063a-492d-931d-50591619b849",
   "metadata": {},
   "source": [
    "# Container"
   ]
  },
  {
   "cell_type": "code",
   "execution_count": 121,
   "id": "192518e5-e2d2-4477-8ccb-64fefccdf729",
   "metadata": {},
   "outputs": [],
   "source": [
    "code = '1750686487'\n",
    "evaluation = evaluators.benchbase(code=code, path=path)\n",
    "workload = get_workload(code)"
   ]
  },
  {
   "cell_type": "code",
   "execution_count": 122,
   "id": "bad9b5c1-6ca7-4382-84c8-647aed61da54",
   "metadata": {},
   "outputs": [
    {
     "data": {
      "text/html": [
       "<div>\n",
       "<style scoped>\n",
       "    .dataframe tbody tr th:only-of-type {\n",
       "        vertical-align: middle;\n",
       "    }\n",
       "\n",
       "    .dataframe tbody tr th {\n",
       "        vertical-align: top;\n",
       "    }\n",
       "\n",
       "    .dataframe thead th {\n",
       "        text-align: right;\n",
       "    }\n",
       "</style>\n",
       "<table border=\"1\" class=\"dataframe\">\n",
       "  <thead>\n",
       "    <tr style=\"text-align: right;\">\n",
       "      <th></th>\n",
       "      <th>client</th>\n",
       "      <th>Goodput (requests/second)</th>\n",
       "      <th>Latency Distribution.Average Latency (microseconds)</th>\n",
       "      <th>type</th>\n",
       "      <th>num_tenants</th>\n",
       "    </tr>\n",
       "  </thead>\n",
       "  <tbody>\n",
       "    <tr>\n",
       "      <th>0</th>\n",
       "      <td>1</td>\n",
       "      <td>6206.906833</td>\n",
       "      <td>31782.0</td>\n",
       "      <td>container</td>\n",
       "      <td>2</td>\n",
       "    </tr>\n",
       "    <tr>\n",
       "      <th>1</th>\n",
       "      <td>2</td>\n",
       "      <td>7300.489242</td>\n",
       "      <td>26982.5</td>\n",
       "      <td>container</td>\n",
       "      <td>2</td>\n",
       "    </tr>\n",
       "  </tbody>\n",
       "</table>\n",
       "</div>"
      ],
      "text/plain": [
       "  client  Goodput (requests/second)  \\\n",
       "0      1                6206.906833   \n",
       "1      2                7300.489242   \n",
       "\n",
       "   Latency Distribution.Average Latency (microseconds)       type  num_tenants  \n",
       "0                                              31782.0  container            2  \n",
       "1                                              26982.5  container            2  "
      ]
     },
     "execution_count": 122,
     "metadata": {},
     "output_type": "execute_result"
    }
   ],
   "source": [
    "df=get_performance(evaluation)\n",
    "df['type']=workload['tenant_per']\n",
    "df['num_tenants']=workload['num_tenants']\n",
    "df"
   ]
  },
  {
   "cell_type": "code",
   "execution_count": 123,
   "id": "9c76894c-11b9-4296-be15-622852d5d001",
   "metadata": {},
   "outputs": [
    {
     "data": {
      "text/html": [
       "<div>\n",
       "<style scoped>\n",
       "    .dataframe tbody tr th:only-of-type {\n",
       "        vertical-align: middle;\n",
       "    }\n",
       "\n",
       "    .dataframe tbody tr th {\n",
       "        vertical-align: top;\n",
       "    }\n",
       "\n",
       "    .dataframe thead th {\n",
       "        text-align: right;\n",
       "    }\n",
       "</style>\n",
       "<table border=\"1\" class=\"dataframe\">\n",
       "  <thead>\n",
       "    <tr style=\"text-align: right;\">\n",
       "      <th></th>\n",
       "      <th>time_load</th>\n",
       "      <th>time_ingest</th>\n",
       "      <th>time_check</th>\n",
       "      <th>terminals</th>\n",
       "      <th>pods</th>\n",
       "      <th>tenant</th>\n",
       "      <th>client</th>\n",
       "    </tr>\n",
       "  </thead>\n",
       "  <tbody>\n",
       "    <tr>\n",
       "      <th>PostgreSQL-1-1-16384-0-1</th>\n",
       "      <td>276.0</td>\n",
       "      <td>116.0</td>\n",
       "      <td>159.0</td>\n",
       "      <td>1</td>\n",
       "      <td>1</td>\n",
       "      <td>0</td>\n",
       "      <td>1</td>\n",
       "    </tr>\n",
       "    <tr>\n",
       "      <th>PostgreSQL-1-1-16384-0-2</th>\n",
       "      <td>276.0</td>\n",
       "      <td>116.0</td>\n",
       "      <td>159.0</td>\n",
       "      <td>1</td>\n",
       "      <td>1</td>\n",
       "      <td>0</td>\n",
       "      <td>2</td>\n",
       "    </tr>\n",
       "    <tr>\n",
       "      <th>PostgreSQL-1-1-16384-1-1</th>\n",
       "      <td>313.0</td>\n",
       "      <td>124.0</td>\n",
       "      <td>188.0</td>\n",
       "      <td>1</td>\n",
       "      <td>1</td>\n",
       "      <td>1</td>\n",
       "      <td>1</td>\n",
       "    </tr>\n",
       "    <tr>\n",
       "      <th>PostgreSQL-1-1-16384-1-2</th>\n",
       "      <td>313.0</td>\n",
       "      <td>124.0</td>\n",
       "      <td>188.0</td>\n",
       "      <td>1</td>\n",
       "      <td>1</td>\n",
       "      <td>1</td>\n",
       "      <td>2</td>\n",
       "    </tr>\n",
       "  </tbody>\n",
       "</table>\n",
       "</div>"
      ],
      "text/plain": [
       "                         time_load time_ingest time_check terminals pods  \\\n",
       "PostgreSQL-1-1-16384-0-1     276.0       116.0      159.0         1    1   \n",
       "PostgreSQL-1-1-16384-0-2     276.0       116.0      159.0         1    1   \n",
       "PostgreSQL-1-1-16384-1-1     313.0       124.0      188.0         1    1   \n",
       "PostgreSQL-1-1-16384-1-2     313.0       124.0      188.0         1    1   \n",
       "\n",
       "                         tenant client  \n",
       "PostgreSQL-1-1-16384-0-1      0      1  \n",
       "PostgreSQL-1-1-16384-0-2      0      2  \n",
       "PostgreSQL-1-1-16384-1-1      1      1  \n",
       "PostgreSQL-1-1-16384-1-2      1      2  "
      ]
     },
     "execution_count": 123,
     "metadata": {},
     "output_type": "execute_result"
    }
   ],
   "source": [
    "get_loading_time_max(evaluation)"
   ]
  },
  {
   "cell_type": "code",
   "execution_count": 124,
   "id": "f204f33b-c25d-4260-a316-a8390aaa7355",
   "metadata": {},
   "outputs": [
    {
     "name": "stdout",
     "output_type": "stream",
     "text": [
      "\n",
      "### Stream SUT\n"
     ]
    },
    {
     "data": {
      "text/html": [
       "<div>\n",
       "<style scoped>\n",
       "    .dataframe tbody tr th:only-of-type {\n",
       "        vertical-align: middle;\n",
       "    }\n",
       "\n",
       "    .dataframe tbody tr th {\n",
       "        vertical-align: top;\n",
       "    }\n",
       "\n",
       "    .dataframe thead th {\n",
       "        text-align: right;\n",
       "    }\n",
       "</style>\n",
       "<table border=\"1\" class=\"dataframe\">\n",
       "  <thead>\n",
       "    <tr style=\"text-align: right;\">\n",
       "      <th></th>\n",
       "      <th>client</th>\n",
       "      <th>CPU [CPUs]</th>\n",
       "      <th>Max RAM [Gb]</th>\n",
       "      <th>Max RAM Cached [Gb]</th>\n",
       "    </tr>\n",
       "  </thead>\n",
       "  <tbody>\n",
       "    <tr>\n",
       "      <th>0</th>\n",
       "      <td>1</td>\n",
       "      <td>4296.2</td>\n",
       "      <td>9.13</td>\n",
       "      <td>11.89</td>\n",
       "    </tr>\n",
       "    <tr>\n",
       "      <th>1</th>\n",
       "      <td>2</td>\n",
       "      <td>4561.3</td>\n",
       "      <td>9.51</td>\n",
       "      <td>12.71</td>\n",
       "    </tr>\n",
       "  </tbody>\n",
       "</table>\n",
       "</div>"
      ],
      "text/plain": [
       "  client  CPU [CPUs]  Max RAM [Gb]  Max RAM Cached [Gb]\n",
       "0      1      4296.2          9.13                11.89\n",
       "1      2      4561.3          9.51                12.71"
      ]
     },
     "execution_count": 124,
     "metadata": {},
     "output_type": "execute_result"
    }
   ],
   "source": [
    "get_monitoring_stream(evaluation)"
   ]
  },
  {
   "cell_type": "markdown",
   "id": "6afb10d0-cf95-4599-82f5-e5bec7d09251",
   "metadata": {},
   "source": [
    "# Database"
   ]
  },
  {
   "cell_type": "code",
   "execution_count": 125,
   "id": "73793b2b-2aba-4eb6-a07e-6f8091a75fc2",
   "metadata": {},
   "outputs": [],
   "source": [
    "code = '1750685768'\n",
    "evaluation = evaluators.benchbase(code=code, path=path)"
   ]
  },
  {
   "cell_type": "code",
   "execution_count": 126,
   "id": "14065c72-6ee1-4de3-8192-0a3eeb5a134b",
   "metadata": {},
   "outputs": [
    {
     "data": {
      "text/html": [
       "<div>\n",
       "<style scoped>\n",
       "    .dataframe tbody tr th:only-of-type {\n",
       "        vertical-align: middle;\n",
       "    }\n",
       "\n",
       "    .dataframe tbody tr th {\n",
       "        vertical-align: top;\n",
       "    }\n",
       "\n",
       "    .dataframe thead th {\n",
       "        text-align: right;\n",
       "    }\n",
       "</style>\n",
       "<table border=\"1\" class=\"dataframe\">\n",
       "  <thead>\n",
       "    <tr style=\"text-align: right;\">\n",
       "      <th></th>\n",
       "      <th>client</th>\n",
       "      <th>Goodput (requests/second)</th>\n",
       "      <th>Latency Distribution.Average Latency (microseconds)</th>\n",
       "    </tr>\n",
       "  </thead>\n",
       "  <tbody>\n",
       "    <tr>\n",
       "      <th>0</th>\n",
       "      <td>1</td>\n",
       "      <td>3497.947650</td>\n",
       "      <td>56481.5</td>\n",
       "    </tr>\n",
       "    <tr>\n",
       "      <th>1</th>\n",
       "      <td>2</td>\n",
       "      <td>8565.863305</td>\n",
       "      <td>22906.5</td>\n",
       "    </tr>\n",
       "  </tbody>\n",
       "</table>\n",
       "</div>"
      ],
      "text/plain": [
       "  client  Goodput (requests/second)  \\\n",
       "0      1                3497.947650   \n",
       "1      2                8565.863305   \n",
       "\n",
       "   Latency Distribution.Average Latency (microseconds)  \n",
       "0                                              56481.5  \n",
       "1                                              22906.5  "
      ]
     },
     "execution_count": 126,
     "metadata": {},
     "output_type": "execute_result"
    }
   ],
   "source": [
    "get_performance(evaluation)"
   ]
  },
  {
   "cell_type": "code",
   "execution_count": 127,
   "id": "fd344e65-1856-4714-8984-fc174ad58cee",
   "metadata": {},
   "outputs": [
    {
     "data": {
      "text/html": [
       "<div>\n",
       "<style scoped>\n",
       "    .dataframe tbody tr th:only-of-type {\n",
       "        vertical-align: middle;\n",
       "    }\n",
       "\n",
       "    .dataframe tbody tr th {\n",
       "        vertical-align: top;\n",
       "    }\n",
       "\n",
       "    .dataframe thead th {\n",
       "        text-align: right;\n",
       "    }\n",
       "</style>\n",
       "<table border=\"1\" class=\"dataframe\">\n",
       "  <thead>\n",
       "    <tr style=\"text-align: right;\">\n",
       "      <th></th>\n",
       "      <th>time_load</th>\n",
       "      <th>time_ingest</th>\n",
       "      <th>time_check</th>\n",
       "      <th>terminals</th>\n",
       "      <th>pods</th>\n",
       "      <th>tenant</th>\n",
       "      <th>client</th>\n",
       "    </tr>\n",
       "  </thead>\n",
       "  <tbody>\n",
       "    <tr>\n",
       "      <th>PostgreSQL-1-1-16384-1</th>\n",
       "      <td>279.0</td>\n",
       "      <td>121.0</td>\n",
       "      <td>157.0</td>\n",
       "      <td>1</td>\n",
       "      <td>2</td>\n",
       "      <td></td>\n",
       "      <td>1</td>\n",
       "    </tr>\n",
       "    <tr>\n",
       "      <th>PostgreSQL-1-1-16384-2</th>\n",
       "      <td>279.0</td>\n",
       "      <td>121.0</td>\n",
       "      <td>157.0</td>\n",
       "      <td>1</td>\n",
       "      <td>2</td>\n",
       "      <td></td>\n",
       "      <td>2</td>\n",
       "    </tr>\n",
       "  </tbody>\n",
       "</table>\n",
       "</div>"
      ],
      "text/plain": [
       "                       time_load time_ingest time_check terminals pods tenant  \\\n",
       "PostgreSQL-1-1-16384-1     279.0       121.0      157.0         1    2          \n",
       "PostgreSQL-1-1-16384-2     279.0       121.0      157.0         1    2          \n",
       "\n",
       "                       client  \n",
       "PostgreSQL-1-1-16384-1      1  \n",
       "PostgreSQL-1-1-16384-2      2  "
      ]
     },
     "execution_count": 127,
     "metadata": {},
     "output_type": "execute_result"
    }
   ],
   "source": [
    "get_loading_time_max(evaluation)"
   ]
  },
  {
   "cell_type": "code",
   "execution_count": 128,
   "id": "0333b622-6c57-4d4f-85aa-330f602ff3cd",
   "metadata": {},
   "outputs": [
    {
     "name": "stdout",
     "output_type": "stream",
     "text": [
      "\n",
      "### Stream SUT\n"
     ]
    },
    {
     "data": {
      "text/html": [
       "<div>\n",
       "<style scoped>\n",
       "    .dataframe tbody tr th:only-of-type {\n",
       "        vertical-align: middle;\n",
       "    }\n",
       "\n",
       "    .dataframe tbody tr th {\n",
       "        vertical-align: top;\n",
       "    }\n",
       "\n",
       "    .dataframe thead th {\n",
       "        text-align: right;\n",
       "    }\n",
       "</style>\n",
       "<table border=\"1\" class=\"dataframe\">\n",
       "  <thead>\n",
       "    <tr style=\"text-align: right;\">\n",
       "      <th></th>\n",
       "      <th>client</th>\n",
       "      <th>CPU [CPUs]</th>\n",
       "      <th>Max RAM [Gb]</th>\n",
       "      <th>Max RAM Cached [Gb]</th>\n",
       "    </tr>\n",
       "  </thead>\n",
       "  <tbody>\n",
       "    <tr>\n",
       "      <th>0</th>\n",
       "      <td>1</td>\n",
       "      <td>2146.64</td>\n",
       "      <td>6.58</td>\n",
       "      <td>9.06</td>\n",
       "    </tr>\n",
       "    <tr>\n",
       "      <th>1</th>\n",
       "      <td>2</td>\n",
       "      <td>3130.01</td>\n",
       "      <td>7.56</td>\n",
       "      <td>10.74</td>\n",
       "    </tr>\n",
       "  </tbody>\n",
       "</table>\n",
       "</div>"
      ],
      "text/plain": [
       "  client  CPU [CPUs]  Max RAM [Gb]  Max RAM Cached [Gb]\n",
       "0      1     2146.64          6.58                 9.06\n",
       "1      2     3130.01          7.56                10.74"
      ]
     },
     "execution_count": 128,
     "metadata": {},
     "output_type": "execute_result"
    }
   ],
   "source": [
    "get_monitoring_stream(evaluation)"
   ]
  },
  {
   "cell_type": "markdown",
   "id": "4d83424e-c9c2-4fe0-b8e9-11e53e67246c",
   "metadata": {},
   "source": [
    "# Schema"
   ]
  },
  {
   "cell_type": "code",
   "execution_count": 118,
   "id": "8575225a-f7a0-4bf2-b63f-b759e5931b1f",
   "metadata": {},
   "outputs": [],
   "source": [
    "code = '1750685007'\n",
    "evaluation = evaluators.benchbase(code=code, path=path)\n",
    "workload = get_workload(code)"
   ]
  },
  {
   "cell_type": "code",
   "execution_count": 119,
   "id": "09711578-6402-4515-8b8d-0257124f12ca",
   "metadata": {},
   "outputs": [
    {
     "data": {
      "text/html": [
       "<div>\n",
       "<style scoped>\n",
       "    .dataframe tbody tr th:only-of-type {\n",
       "        vertical-align: middle;\n",
       "    }\n",
       "\n",
       "    .dataframe tbody tr th {\n",
       "        vertical-align: top;\n",
       "    }\n",
       "\n",
       "    .dataframe thead th {\n",
       "        text-align: right;\n",
       "    }\n",
       "</style>\n",
       "<table border=\"1\" class=\"dataframe\">\n",
       "  <thead>\n",
       "    <tr style=\"text-align: right;\">\n",
       "      <th></th>\n",
       "      <th>client</th>\n",
       "      <th>Goodput (requests/second)</th>\n",
       "      <th>Latency Distribution.Average Latency (microseconds)</th>\n",
       "      <th>type</th>\n",
       "      <th>num_tenants</th>\n",
       "    </tr>\n",
       "  </thead>\n",
       "  <tbody>\n",
       "    <tr>\n",
       "      <th>0</th>\n",
       "      <td>1</td>\n",
       "      <td>3364.007487</td>\n",
       "      <td>58816.5</td>\n",
       "      <td>schema</td>\n",
       "      <td>2</td>\n",
       "    </tr>\n",
       "    <tr>\n",
       "      <th>1</th>\n",
       "      <td>2</td>\n",
       "      <td>5860.348171</td>\n",
       "      <td>33683.5</td>\n",
       "      <td>schema</td>\n",
       "      <td>2</td>\n",
       "    </tr>\n",
       "  </tbody>\n",
       "</table>\n",
       "</div>"
      ],
      "text/plain": [
       "  client  Goodput (requests/second)  \\\n",
       "0      1                3364.007487   \n",
       "1      2                5860.348171   \n",
       "\n",
       "   Latency Distribution.Average Latency (microseconds)    type  num_tenants  \n",
       "0                                              58816.5  schema            2  \n",
       "1                                              33683.5  schema            2  "
      ]
     },
     "execution_count": 119,
     "metadata": {},
     "output_type": "execute_result"
    }
   ],
   "source": [
    "df=get_performance(evaluation)\n",
    "df['type']=workload['tenant_per']\n",
    "df['num_tenants']=workload['num_tenants']\n",
    "df"
   ]
  },
  {
   "cell_type": "code",
   "execution_count": 120,
   "id": "a6286547-94a6-4104-87be-307a582e668b",
   "metadata": {},
   "outputs": [
    {
     "data": {
      "text/html": [
       "<div>\n",
       "<style scoped>\n",
       "    .dataframe tbody tr th:only-of-type {\n",
       "        vertical-align: middle;\n",
       "    }\n",
       "\n",
       "    .dataframe tbody tr th {\n",
       "        vertical-align: top;\n",
       "    }\n",
       "\n",
       "    .dataframe thead th {\n",
       "        text-align: right;\n",
       "    }\n",
       "</style>\n",
       "<table border=\"1\" class=\"dataframe\">\n",
       "  <thead>\n",
       "    <tr style=\"text-align: right;\">\n",
       "      <th></th>\n",
       "      <th>time_load</th>\n",
       "      <th>time_ingest</th>\n",
       "      <th>time_check</th>\n",
       "      <th>terminals</th>\n",
       "      <th>pods</th>\n",
       "      <th>tenant</th>\n",
       "      <th>client</th>\n",
       "    </tr>\n",
       "  </thead>\n",
       "  <tbody>\n",
       "    <tr>\n",
       "      <th>PostgreSQL-1-1-16384-1</th>\n",
       "      <td>327.0</td>\n",
       "      <td>134.0</td>\n",
       "      <td>192.0</td>\n",
       "      <td>1</td>\n",
       "      <td>2</td>\n",
       "      <td></td>\n",
       "      <td>1</td>\n",
       "    </tr>\n",
       "    <tr>\n",
       "      <th>PostgreSQL-1-1-16384-2</th>\n",
       "      <td>327.0</td>\n",
       "      <td>134.0</td>\n",
       "      <td>192.0</td>\n",
       "      <td>1</td>\n",
       "      <td>2</td>\n",
       "      <td></td>\n",
       "      <td>2</td>\n",
       "    </tr>\n",
       "  </tbody>\n",
       "</table>\n",
       "</div>"
      ],
      "text/plain": [
       "                       time_load time_ingest time_check terminals pods tenant  \\\n",
       "PostgreSQL-1-1-16384-1     327.0       134.0      192.0         1    2          \n",
       "PostgreSQL-1-1-16384-2     327.0       134.0      192.0         1    2          \n",
       "\n",
       "                       client  \n",
       "PostgreSQL-1-1-16384-1      1  \n",
       "PostgreSQL-1-1-16384-2      2  "
      ]
     },
     "execution_count": 120,
     "metadata": {},
     "output_type": "execute_result"
    }
   ],
   "source": [
    "get_loading_time_max(evaluation)"
   ]
  },
  {
   "cell_type": "code",
   "execution_count": 115,
   "id": "da141d7f-df10-4cc0-8c01-9790404f8984",
   "metadata": {},
   "outputs": [
    {
     "name": "stdout",
     "output_type": "stream",
     "text": [
      "\n",
      "### Stream SUT\n"
     ]
    },
    {
     "data": {
      "text/html": [
       "<div>\n",
       "<style scoped>\n",
       "    .dataframe tbody tr th:only-of-type {\n",
       "        vertical-align: middle;\n",
       "    }\n",
       "\n",
       "    .dataframe tbody tr th {\n",
       "        vertical-align: top;\n",
       "    }\n",
       "\n",
       "    .dataframe thead th {\n",
       "        text-align: right;\n",
       "    }\n",
       "</style>\n",
       "<table border=\"1\" class=\"dataframe\">\n",
       "  <thead>\n",
       "    <tr style=\"text-align: right;\">\n",
       "      <th></th>\n",
       "      <th>client</th>\n",
       "      <th>CPU [CPUs]</th>\n",
       "      <th>Max RAM [Gb]</th>\n",
       "      <th>Max RAM Cached [Gb]</th>\n",
       "    </tr>\n",
       "  </thead>\n",
       "  <tbody>\n",
       "    <tr>\n",
       "      <th>0</th>\n",
       "      <td>1</td>\n",
       "      <td>2266.72</td>\n",
       "      <td>6.74</td>\n",
       "      <td>9.18</td>\n",
       "    </tr>\n",
       "    <tr>\n",
       "      <th>1</th>\n",
       "      <td>2</td>\n",
       "      <td>2229.89</td>\n",
       "      <td>7.32</td>\n",
       "      <td>10.20</td>\n",
       "    </tr>\n",
       "  </tbody>\n",
       "</table>\n",
       "</div>"
      ],
      "text/plain": [
       "  client  CPU [CPUs]  Max RAM [Gb]  Max RAM Cached [Gb]\n",
       "0      1     2266.72          6.74                 9.18\n",
       "1      2     2229.89          7.32                10.20"
      ]
     },
     "execution_count": 115,
     "metadata": {},
     "output_type": "execute_result"
    }
   ],
   "source": [
    "get_monitoring_stream(evaluation)"
   ]
  },
  {
   "cell_type": "code",
   "execution_count": null,
   "id": "13a1a516-4080-4a8b-916a-4bcc080d668c",
   "metadata": {},
   "outputs": [],
   "source": []
  },
  {
   "cell_type": "code",
   "execution_count": null,
   "id": "b9bf72af-bbc5-4fdd-8272-cb3926b41f4f",
   "metadata": {},
   "outputs": [],
   "source": []
  },
  {
   "cell_type": "code",
   "execution_count": null,
   "id": "534fd1f4-5439-4899-8f38-19ff8c76cd66",
   "metadata": {},
   "outputs": [],
   "source": []
  }
 ],
 "metadata": {
  "kernelspec": {
   "display_name": "Python 3 (ipykernel)",
   "language": "python",
   "name": "python3"
  },
  "language_info": {
   "codemirror_mode": {
    "name": "ipython",
    "version": 3
   },
   "file_extension": ".py",
   "mimetype": "text/x-python",
   "name": "python",
   "nbconvert_exporter": "python",
   "pygments_lexer": "ipython3",
   "version": "3.11.9"
  }
 },
 "nbformat": 4,
 "nbformat_minor": 5
}
