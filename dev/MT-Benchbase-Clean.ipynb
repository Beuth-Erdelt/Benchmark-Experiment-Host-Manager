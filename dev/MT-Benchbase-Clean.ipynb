{
 "cells": [
  {
   "cell_type": "code",
   "execution_count": 1,
   "id": "8752673f-a475-4578-bd9a-12d7bdd0440b",
   "metadata": {},
   "outputs": [],
   "source": [
    "import pandas as pd\n",
    "pd.set_option(\"display.max_rows\", None)\n",
    "pd.set_option('display.max_colwidth', None)\n",
    "#import os\n",
    "#import re\n",
    "import matplotlib.pyplot as plt\n",
    "#import pickle\n",
    "from IPython.display import display, Markdown\n",
    "import seaborn as sns\n",
    "from math import floor\n",
    "import ast\n",
    "import json\n",
    "\n",
    "#import dbmsbenchmarker\n",
    "#import bexhoma\n",
    "from bexhoma import evaluators\n",
    "\n",
    "%matplotlib inline"
   ]
  },
  {
   "cell_type": "code",
   "execution_count": 2,
   "id": "1da1f875-66a1-4dbd-a5c2-15b30793d670",
   "metadata": {},
   "outputs": [],
   "source": [
    "path = r\"C:\\data\\benchmarks\""
   ]
  },
  {
   "cell_type": "code",
   "execution_count": 3,
   "id": "4994bac7-f30c-4712-8aa8-c249c215d0b4",
   "metadata": {},
   "outputs": [],
   "source": [
    "def get_performance(evaluation):\n",
    "    df = evaluation.get_df_benchmarking()\n",
    "    df = df.sort_values(['experiment_run', 'client'])\n",
    "    result = df.groupby('client').agg({\n",
    "        'Goodput (requests/second)': 'sum',\n",
    "        'Latency Distribution.Average Latency (microseconds)': 'mean'\n",
    "    }).reset_index()\n",
    "    return result\n",
    "\n",
    "def get_loading_time_max(evaluation):\n",
    "    with open(path+\"/\"+code+\"/connections.config\",'r') as inf:\n",
    "        connections = ast.literal_eval(inf.read())\n",
    "        pretty_connections = json.dumps(connections, indent=2)\n",
    "        #print(pretty_connections)\n",
    "        connections_sorted = sorted(connections, key=lambda c: c['name'])\n",
    "        result = dict()\n",
    "        for c in connections_sorted:\n",
    "            \"\"\"\n",
    "            print(c['name'], \n",
    "                  c['timeLoad'], \n",
    "                  '[s] for', \n",
    "                  c['parameter']['connection_parameter']['loading_parameters']['BENCHBASE_TERMINALS'], \n",
    "                  'threads on',\n",
    "                  c['hostsystem']['node'])\n",
    "            \"\"\"\n",
    "            result[c['name']] = {\n",
    "                'time_load': c['timeIngesting'],\n",
    "                'terminals': c['parameter']['connection_parameter']['loading_parameters']['BENCHBASE_TERMINALS'],\n",
    "                #'target': c['parameter']['connection_parameter']['loading_parameters']['BENCHBASE_TARGET'],\n",
    "                'pods': c['parameter']['parallelism'],\n",
    "            }\n",
    "            #result[c['parameter']['connection_parameter']['loading_parameters']['BENCHBASE_TERMINALS']] = c['timeIngesting']\n",
    "        df = pd.DataFrame(result).T\n",
    "        return df['time_load'].max()\n",
    "\n",
    "def show_summary_monitoring_table(evaluate, component):\n",
    "    df_monitoring = list()\n",
    "    ##########\n",
    "    df = evaluate.get_monitoring_metric(metric='total_cpu_util_s', component=component)\n",
    "    df = df.max().sort_index() - df.min().sort_index() # compute difference of counter\n",
    "    #df = df.T.max().sort_index() - df.T.min().sort_index() # compute difference of counter\n",
    "    df_cleaned = pd.DataFrame(df)\n",
    "    df_cleaned.columns = [\"CPU [CPUs]\"]\n",
    "    if not df_cleaned.empty:\n",
    "        df_monitoring.append(df_cleaned.copy())\n",
    "    df = evaluate.get_monitoring_metric(metric='total_cpu_memory', component=component)/1024\n",
    "    #df = evaluate.get_loading_metrics('total_cpu_memory')/1024\n",
    "    df = df.max().sort_index()\n",
    "    df_cleaned = pd.DataFrame(df).round(2)\n",
    "    df_cleaned.columns = [\"Max RAM [Gb]\"]\n",
    "    if not df_cleaned.empty:\n",
    "        df_monitoring.append(df_cleaned.copy())\n",
    "    ##########\n",
    "    df = evaluate.get_monitoring_metric(metric='total_cpu_memory_cached', component=component)/1024\n",
    "    #df = evaluate.get_loading_metrics('total_cpu_memory_cached')/1024\n",
    "    df = df.max().sort_index()\n",
    "    df_cleaned = pd.DataFrame(df)\n",
    "    df_cleaned.columns = [\"Max RAM Cached [Gb]\"]\n",
    "    if not df_cleaned.empty:\n",
    "        df_monitoring.append(df_cleaned.copy())\n",
    "    return df_monitoring\n",
    "\n",
    "def get_monitoring_stream(evaluation):\n",
    "    df_monitoring = show_summary_monitoring_table(evaluation, \"stream\")\n",
    "    if len(df_monitoring) > 0:\n",
    "        print(\"\\n### Stream SUT\")\n",
    "        df = pd.concat(df_monitoring, axis=1).round(2)\n",
    "        df = df.reindex(index=evaluators.natural_sort(df.index))\n",
    "        # If your DataFrame is named df and the index is a string like 'PostgreSQL-1-1-1024-0-1'\n",
    "        df = df.copy()  # avoid modifying original\n",
    "        df['client'] = df.index.str.rsplit('-', n=1).str[-1]\n",
    "        #print(df)\n",
    "        result = df.groupby('client').agg({\n",
    "            'CPU [CPUs]': 'sum',\n",
    "            'Max RAM [Gb]': 'sum',\n",
    "            'Max RAM Cached [Gb]': 'sum',\n",
    "        }).reset_index()\n",
    "        return result\n"
   ]
  },
  {
   "cell_type": "markdown",
   "id": "d4eaf03b-063a-492d-931d-50591619b849",
   "metadata": {},
   "source": [
    "# Container"
   ]
  },
  {
   "cell_type": "code",
   "execution_count": 4,
   "id": "192518e5-e2d2-4477-8ccb-64fefccdf729",
   "metadata": {},
   "outputs": [],
   "source": [
    "code = \"1750591366\"\n",
    "code=\"1750618040\"\n",
    "evaluation = evaluators.benchbase(code=code, path=path)"
   ]
  },
  {
   "cell_type": "code",
   "execution_count": 5,
   "id": "bad9b5c1-6ca7-4382-84c8-647aed61da54",
   "metadata": {},
   "outputs": [
    {
     "data": {
      "text/html": [
       "<div>\n",
       "<style scoped>\n",
       "    .dataframe tbody tr th:only-of-type {\n",
       "        vertical-align: middle;\n",
       "    }\n",
       "\n",
       "    .dataframe tbody tr th {\n",
       "        vertical-align: top;\n",
       "    }\n",
       "\n",
       "    .dataframe thead th {\n",
       "        text-align: right;\n",
       "    }\n",
       "</style>\n",
       "<table border=\"1\" class=\"dataframe\">\n",
       "  <thead>\n",
       "    <tr style=\"text-align: right;\">\n",
       "      <th></th>\n",
       "      <th>client</th>\n",
       "      <th>Goodput (requests/second)</th>\n",
       "      <th>Latency Distribution.Average Latency (microseconds)</th>\n",
       "    </tr>\n",
       "  </thead>\n",
       "  <tbody>\n",
       "    <tr>\n",
       "      <th>0</th>\n",
       "      <td>1</td>\n",
       "      <td>1567.823224</td>\n",
       "      <td>12549.5</td>\n",
       "    </tr>\n",
       "    <tr>\n",
       "      <th>1</th>\n",
       "      <td>2</td>\n",
       "      <td>1570.913187</td>\n",
       "      <td>12510.5</td>\n",
       "    </tr>\n",
       "  </tbody>\n",
       "</table>\n",
       "</div>"
      ],
      "text/plain": [
       "  client  Goodput (requests/second)  \\\n",
       "0      1                1567.823224   \n",
       "1      2                1570.913187   \n",
       "\n",
       "   Latency Distribution.Average Latency (microseconds)  \n",
       "0                                              12549.5  \n",
       "1                                              12510.5  "
      ]
     },
     "execution_count": 5,
     "metadata": {},
     "output_type": "execute_result"
    }
   ],
   "source": [
    "get_performance(evaluation)"
   ]
  },
  {
   "cell_type": "code",
   "execution_count": 6,
   "id": "9c76894c-11b9-4296-be15-622852d5d001",
   "metadata": {},
   "outputs": [
    {
     "data": {
      "text/plain": [
       "66.0"
      ]
     },
     "execution_count": 6,
     "metadata": {},
     "output_type": "execute_result"
    }
   ],
   "source": [
    "get_loading_time_max(evaluation)"
   ]
  },
  {
   "cell_type": "code",
   "execution_count": 7,
   "id": "f204f33b-c25d-4260-a316-a8390aaa7355",
   "metadata": {},
   "outputs": [
    {
     "name": "stdout",
     "output_type": "stream",
     "text": [
      "\n",
      "### Stream SUT\n"
     ]
    },
    {
     "data": {
      "text/html": [
       "<div>\n",
       "<style scoped>\n",
       "    .dataframe tbody tr th:only-of-type {\n",
       "        vertical-align: middle;\n",
       "    }\n",
       "\n",
       "    .dataframe tbody tr th {\n",
       "        vertical-align: top;\n",
       "    }\n",
       "\n",
       "    .dataframe thead th {\n",
       "        text-align: right;\n",
       "    }\n",
       "</style>\n",
       "<table border=\"1\" class=\"dataframe\">\n",
       "  <thead>\n",
       "    <tr style=\"text-align: right;\">\n",
       "      <th></th>\n",
       "      <th>client</th>\n",
       "      <th>CPU [CPUs]</th>\n",
       "      <th>Max RAM [Gb]</th>\n",
       "      <th>Max RAM Cached [Gb]</th>\n",
       "    </tr>\n",
       "  </thead>\n",
       "  <tbody>\n",
       "    <tr>\n",
       "      <th>0</th>\n",
       "      <td>1</td>\n",
       "      <td>1750.23</td>\n",
       "      <td>5.37</td>\n",
       "      <td>5.97</td>\n",
       "    </tr>\n",
       "    <tr>\n",
       "      <th>1</th>\n",
       "      <td>2</td>\n",
       "      <td>1688.45</td>\n",
       "      <td>5.79</td>\n",
       "      <td>6.78</td>\n",
       "    </tr>\n",
       "  </tbody>\n",
       "</table>\n",
       "</div>"
      ],
      "text/plain": [
       "  client  CPU [CPUs]  Max RAM [Gb]  Max RAM Cached [Gb]\n",
       "0      1     1750.23          5.37                 5.97\n",
       "1      2     1688.45          5.79                 6.78"
      ]
     },
     "execution_count": 7,
     "metadata": {},
     "output_type": "execute_result"
    }
   ],
   "source": [
    "get_monitoring_stream(evaluation)"
   ]
  },
  {
   "cell_type": "markdown",
   "id": "6afb10d0-cf95-4599-82f5-e5bec7d09251",
   "metadata": {},
   "source": [
    "# Database"
   ]
  },
  {
   "cell_type": "code",
   "execution_count": 8,
   "id": "73793b2b-2aba-4eb6-a07e-6f8091a75fc2",
   "metadata": {},
   "outputs": [],
   "source": [
    "code = '1750590405'\n",
    "code = '1750616828'\n",
    "evaluation = evaluators.benchbase(code=code, path=path)"
   ]
  },
  {
   "cell_type": "code",
   "execution_count": 9,
   "id": "14065c72-6ee1-4de3-8192-0a3eeb5a134b",
   "metadata": {},
   "outputs": [
    {
     "data": {
      "text/html": [
       "<div>\n",
       "<style scoped>\n",
       "    .dataframe tbody tr th:only-of-type {\n",
       "        vertical-align: middle;\n",
       "    }\n",
       "\n",
       "    .dataframe tbody tr th {\n",
       "        vertical-align: top;\n",
       "    }\n",
       "\n",
       "    .dataframe thead th {\n",
       "        text-align: right;\n",
       "    }\n",
       "</style>\n",
       "<table border=\"1\" class=\"dataframe\">\n",
       "  <thead>\n",
       "    <tr style=\"text-align: right;\">\n",
       "      <th></th>\n",
       "      <th>client</th>\n",
       "      <th>Goodput (requests/second)</th>\n",
       "      <th>Latency Distribution.Average Latency (microseconds)</th>\n",
       "    </tr>\n",
       "  </thead>\n",
       "  <tbody>\n",
       "    <tr>\n",
       "      <th>0</th>\n",
       "      <td>1</td>\n",
       "      <td>1465.633219</td>\n",
       "      <td>13426.5</td>\n",
       "    </tr>\n",
       "    <tr>\n",
       "      <th>1</th>\n",
       "      <td>2</td>\n",
       "      <td>1587.769744</td>\n",
       "      <td>12483.5</td>\n",
       "    </tr>\n",
       "  </tbody>\n",
       "</table>\n",
       "</div>"
      ],
      "text/plain": [
       "  client  Goodput (requests/second)  \\\n",
       "0      1                1465.633219   \n",
       "1      2                1587.769744   \n",
       "\n",
       "   Latency Distribution.Average Latency (microseconds)  \n",
       "0                                              13426.5  \n",
       "1                                              12483.5  "
      ]
     },
     "execution_count": 9,
     "metadata": {},
     "output_type": "execute_result"
    }
   ],
   "source": [
    "get_performance(evaluation)"
   ]
  },
  {
   "cell_type": "code",
   "execution_count": 10,
   "id": "fd344e65-1856-4714-8984-fc174ad58cee",
   "metadata": {},
   "outputs": [
    {
     "data": {
      "text/plain": [
       "67.0"
      ]
     },
     "execution_count": 10,
     "metadata": {},
     "output_type": "execute_result"
    }
   ],
   "source": [
    "get_loading_time_max(evaluation)"
   ]
  },
  {
   "cell_type": "code",
   "execution_count": 11,
   "id": "0333b622-6c57-4d4f-85aa-330f602ff3cd",
   "metadata": {},
   "outputs": [
    {
     "name": "stdout",
     "output_type": "stream",
     "text": [
      "\n",
      "### Stream SUT\n"
     ]
    },
    {
     "data": {
      "text/html": [
       "<div>\n",
       "<style scoped>\n",
       "    .dataframe tbody tr th:only-of-type {\n",
       "        vertical-align: middle;\n",
       "    }\n",
       "\n",
       "    .dataframe tbody tr th {\n",
       "        vertical-align: top;\n",
       "    }\n",
       "\n",
       "    .dataframe thead th {\n",
       "        text-align: right;\n",
       "    }\n",
       "</style>\n",
       "<table border=\"1\" class=\"dataframe\">\n",
       "  <thead>\n",
       "    <tr style=\"text-align: right;\">\n",
       "      <th></th>\n",
       "      <th>client</th>\n",
       "      <th>CPU [CPUs]</th>\n",
       "      <th>Max RAM [Gb]</th>\n",
       "      <th>Max RAM Cached [Gb]</th>\n",
       "    </tr>\n",
       "  </thead>\n",
       "  <tbody>\n",
       "    <tr>\n",
       "      <th>0</th>\n",
       "      <td>1</td>\n",
       "      <td>1720.69</td>\n",
       "      <td>3.09</td>\n",
       "      <td>3.66</td>\n",
       "    </tr>\n",
       "    <tr>\n",
       "      <th>1</th>\n",
       "      <td>2</td>\n",
       "      <td>1770.50</td>\n",
       "      <td>3.46</td>\n",
       "      <td>4.40</td>\n",
       "    </tr>\n",
       "  </tbody>\n",
       "</table>\n",
       "</div>"
      ],
      "text/plain": [
       "  client  CPU [CPUs]  Max RAM [Gb]  Max RAM Cached [Gb]\n",
       "0      1     1720.69          3.09                 3.66\n",
       "1      2     1770.50          3.46                 4.40"
      ]
     },
     "execution_count": 11,
     "metadata": {},
     "output_type": "execute_result"
    }
   ],
   "source": [
    "get_monitoring_stream(evaluation)"
   ]
  },
  {
   "cell_type": "markdown",
   "id": "4d83424e-c9c2-4fe0-b8e9-11e53e67246c",
   "metadata": {},
   "source": [
    "# Schema"
   ]
  },
  {
   "cell_type": "code",
   "execution_count": 12,
   "id": "8575225a-f7a0-4bf2-b63f-b759e5931b1f",
   "metadata": {},
   "outputs": [],
   "source": [
    "code = '1750589482'\n",
    "code = '1750615583'\n",
    "evaluation = evaluators.benchbase(code=code, path=path)"
   ]
  },
  {
   "cell_type": "code",
   "execution_count": 13,
   "id": "09711578-6402-4515-8b8d-0257124f12ca",
   "metadata": {},
   "outputs": [
    {
     "data": {
      "text/html": [
       "<div>\n",
       "<style scoped>\n",
       "    .dataframe tbody tr th:only-of-type {\n",
       "        vertical-align: middle;\n",
       "    }\n",
       "\n",
       "    .dataframe tbody tr th {\n",
       "        vertical-align: top;\n",
       "    }\n",
       "\n",
       "    .dataframe thead th {\n",
       "        text-align: right;\n",
       "    }\n",
       "</style>\n",
       "<table border=\"1\" class=\"dataframe\">\n",
       "  <thead>\n",
       "    <tr style=\"text-align: right;\">\n",
       "      <th></th>\n",
       "      <th>client</th>\n",
       "      <th>Goodput (requests/second)</th>\n",
       "      <th>Latency Distribution.Average Latency (microseconds)</th>\n",
       "    </tr>\n",
       "  </thead>\n",
       "  <tbody>\n",
       "    <tr>\n",
       "      <th>0</th>\n",
       "      <td>1</td>\n",
       "      <td>1469.156441</td>\n",
       "      <td>13408.0</td>\n",
       "    </tr>\n",
       "    <tr>\n",
       "      <th>1</th>\n",
       "      <td>2</td>\n",
       "      <td>1338.416519</td>\n",
       "      <td>14712.0</td>\n",
       "    </tr>\n",
       "  </tbody>\n",
       "</table>\n",
       "</div>"
      ],
      "text/plain": [
       "  client  Goodput (requests/second)  \\\n",
       "0      1                1469.156441   \n",
       "1      2                1338.416519   \n",
       "\n",
       "   Latency Distribution.Average Latency (microseconds)  \n",
       "0                                              13408.0  \n",
       "1                                              14712.0  "
      ]
     },
     "execution_count": 13,
     "metadata": {},
     "output_type": "execute_result"
    }
   ],
   "source": [
    "get_performance(evaluation)"
   ]
  },
  {
   "cell_type": "code",
   "execution_count": 14,
   "id": "a6286547-94a6-4104-87be-307a582e668b",
   "metadata": {},
   "outputs": [
    {
     "data": {
      "text/plain": [
       "70.0"
      ]
     },
     "execution_count": 14,
     "metadata": {},
     "output_type": "execute_result"
    }
   ],
   "source": [
    "get_loading_time_max(evaluation)"
   ]
  },
  {
   "cell_type": "code",
   "execution_count": 15,
   "id": "da141d7f-df10-4cc0-8c01-9790404f8984",
   "metadata": {},
   "outputs": [
    {
     "name": "stdout",
     "output_type": "stream",
     "text": [
      "\n",
      "### Stream SUT\n"
     ]
    },
    {
     "data": {
      "text/html": [
       "<div>\n",
       "<style scoped>\n",
       "    .dataframe tbody tr th:only-of-type {\n",
       "        vertical-align: middle;\n",
       "    }\n",
       "\n",
       "    .dataframe tbody tr th {\n",
       "        vertical-align: top;\n",
       "    }\n",
       "\n",
       "    .dataframe thead th {\n",
       "        text-align: right;\n",
       "    }\n",
       "</style>\n",
       "<table border=\"1\" class=\"dataframe\">\n",
       "  <thead>\n",
       "    <tr style=\"text-align: right;\">\n",
       "      <th></th>\n",
       "      <th>client</th>\n",
       "      <th>CPU [CPUs]</th>\n",
       "      <th>Max RAM [Gb]</th>\n",
       "      <th>Max RAM Cached [Gb]</th>\n",
       "    </tr>\n",
       "  </thead>\n",
       "  <tbody>\n",
       "    <tr>\n",
       "      <th>0</th>\n",
       "      <td>1</td>\n",
       "      <td>1742.85</td>\n",
       "      <td>3.07</td>\n",
       "      <td>3.65</td>\n",
       "    </tr>\n",
       "    <tr>\n",
       "      <th>1</th>\n",
       "      <td>2</td>\n",
       "      <td>1661.71</td>\n",
       "      <td>3.41</td>\n",
       "      <td>4.32</td>\n",
       "    </tr>\n",
       "  </tbody>\n",
       "</table>\n",
       "</div>"
      ],
      "text/plain": [
       "  client  CPU [CPUs]  Max RAM [Gb]  Max RAM Cached [Gb]\n",
       "0      1     1742.85          3.07                 3.65\n",
       "1      2     1661.71          3.41                 4.32"
      ]
     },
     "execution_count": 15,
     "metadata": {},
     "output_type": "execute_result"
    }
   ],
   "source": [
    "get_monitoring_stream(evaluation)"
   ]
  },
  {
   "cell_type": "code",
   "execution_count": null,
   "id": "13a1a516-4080-4a8b-916a-4bcc080d668c",
   "metadata": {},
   "outputs": [],
   "source": []
  }
 ],
 "metadata": {
  "kernelspec": {
   "display_name": "Python 3 (ipykernel)",
   "language": "python",
   "name": "python3"
  },
  "language_info": {
   "codemirror_mode": {
    "name": "ipython",
    "version": 3
   },
   "file_extension": ".py",
   "mimetype": "text/x-python",
   "name": "python",
   "nbconvert_exporter": "python",
   "pygments_lexer": "ipython3",
   "version": "3.11.9"
  }
 },
 "nbformat": 4,
 "nbformat_minor": 5
}
