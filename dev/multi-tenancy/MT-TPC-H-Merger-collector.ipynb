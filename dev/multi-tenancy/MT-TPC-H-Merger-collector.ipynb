{
 "cells": [
  {
   "cell_type": "markdown",
   "id": "b469182e-23d2-4aaa-a7d6-be00fe7bc5ec",
   "metadata": {},
   "source": [
    "# TPC-H Multi-Tenant in PostgreSQL with PVC"
   ]
  },
  {
   "cell_type": "code",
   "execution_count": 1,
   "id": "8752673f-a475-4578-bd9a-12d7bdd0440b",
   "metadata": {},
   "outputs": [],
   "source": [
    "import pandas as pd\n",
    "pd.set_option(\"display.max_rows\", None)\n",
    "pd.set_option('display.max_colwidth', None)\n",
    "import matplotlib.pyplot as plt\n",
    "import seaborn as sns\n",
    "import re\n",
    "\n",
    "from bexhoma import collectors\n",
    "\n",
    "%matplotlib inline"
   ]
  },
  {
   "cell_type": "markdown",
   "id": "02b27df8-fb3c-4554-aa7f-a1badfd227e1",
   "metadata": {},
   "source": [
    "# Functions for Nice Plots"
   ]
  },
  {
   "cell_type": "code",
   "execution_count": 2,
   "id": "98e4f2c5-e1bd-4c14-955f-f3eba13b2468",
   "metadata": {},
   "outputs": [],
   "source": [
    "def sanitize_filename(title, max_length=100):\n",
    "    # Replace non-alphanumeric characters with underscores\n",
    "    safe = re.sub(r'[^a-zA-Z0-9-_]+', '_', title.strip())\n",
    "    # Truncate to a safe length\n",
    "    return safe[:max_length].rstrip('_')\n",
    "    \n",
    "def plot_bars(df, y, title, estimator):\n",
    "    df_plot = df.copy()\n",
    "    #df_plot = df_plot[df_plot['client']=='1']\n",
    "    df_plot = df_plot.sort_values(['num_tenants','type'])\n",
    "    # Hatch styles for each type\n",
    "    hatch_map = {\n",
    "        'container': '/',\n",
    "        'database': '\\\\',\n",
    "        'schema': 'x'\n",
    "    }\n",
    "    hue_order = ['container', 'database', 'schema']\n",
    "    # Create the plot\n",
    "    plt.figure(figsize=(10, 6))\n",
    "    ax = sns.barplot(\n",
    "        data=df_plot,\n",
    "        x='num_tenants',\n",
    "        y=y,\n",
    "        hue='type',\n",
    "        estimator=estimator,\n",
    "        palette='Set2',\n",
    "        hue_order=hue_order\n",
    "    )\n",
    "    \"\"\"\n",
    "    for bar in ax.patches:\n",
    "        height = bar.get_height()\n",
    "        if height > 0:\n",
    "            ax.text(\n",
    "                bar.get_x() + bar.get_width() / 2,  # X: center of bar\n",
    "                height,                             # Y: top of bar\n",
    "                f'{height:.1f}',                    # Text (1 decimal place)\n",
    "                ha='center', va='bottom', fontsize=8\n",
    "            )\n",
    "    \"\"\"\n",
    "    # Get tick positions (i.e., the x-axis categories)\n",
    "    xticks = ax.get_xticks()\n",
    "    bar_width = ax.patches[0].get_width()\n",
    "    # Create a mapping from (num_tenants, type) to hatch\n",
    "    grouped = df_plot.groupby(['num_tenants', 'type']).agg({y: estimator}).reset_index()\n",
    "    #print(grouped)\n",
    "    grouped_dict = {(row['num_tenants'], row['type']): hatch_map[row['type']] for _, row in grouped.iterrows()}\n",
    "    bars = sorted(ax.patches, key=lambda bar: bar.get_x() if bar.get_height() > 0 else 10000)\n",
    "    for bar, (_, row) in zip(bars, grouped.iterrows()):\n",
    "        bar.my_id = (row['num_tenants'], row['type'])  # or anything else like an index or uuid\n",
    "        bar.set_hatch(hatch_map[row['type']]) #grouped_dict[(bar.my_id)])\n",
    "        bar.set_edgecolor('black')\n",
    "        bar.set_linewidth(1)\n",
    "    handles, labels = ax.get_legend_handles_labels()\n",
    "    for handle, label in zip(handles, labels):\n",
    "        hatch = hatch_map.get(label, '')\n",
    "        handle.set_hatch(hatch)\n",
    "    # Final touches\n",
    "    plt.legend(title='Type')\n",
    "    ax.legend(fontsize=18)\n",
    "    #ax.legend(fontsize=18, loc='upper left', bbox_to_anchor=(1, 1))  # move outside\n",
    "    plt.title(f\"{title}\", fontsize=24)\n",
    "    #plt.title(f\"{title} by Number of Tenants and Type\", fontsize=24)\n",
    "    plt.xlabel(\"Number of Tenants\", fontsize=18)\n",
    "    ax.tick_params(axis='both', labelsize=16)\n",
    "    # Remove y-axis label\n",
    "    ax.set_ylabel('')  # or ax.set(ylabel='')\n",
    "    plt.tight_layout()\n",
    "    filename = \"tpch_\" + sanitize_filename(title) + \".png\"    \n",
    "    plt.savefig(filename, dpi=300, bbox_inches=\"tight\")\n",
    "    plt.show()\n",
    "\n",
    "def plot_boxplots(df, y, title):\n",
    "    plt.figure(figsize=(10, 6))\n",
    "    # Hatch styles for each type\n",
    "    hatch_map = {\n",
    "        'container': '/',\n",
    "        'database': '\\\\',\n",
    "        'schema': 'x'\n",
    "    }\n",
    "    hue_order = ['container', 'database', 'schema']\n",
    "    \n",
    "    # Plot boxplots grouped by num_tenants and colored by type\n",
    "    ax = sns.boxplot(\n",
    "        data=df,\n",
    "        x='num_tenants',\n",
    "        y=y,#'Goodput (requests/second)',\n",
    "        hue='type',\n",
    "        palette='Set2'  # consistent colors per type\n",
    "    )\n",
    "    # Add vertical separator lines between groups\n",
    "    # Get the number of unique num_tenants and type\n",
    "    num_groups = df['num_tenants'].nunique()\n",
    "    num_types = df['type'].nunique()\n",
    "    \n",
    "    # Extract hue order\n",
    "    hue_order = ax.get_legend_handles_labels()[1]\n",
    "    num_hue = len(hue_order)\n",
    "    \n",
    "    # Get hue order from seaborn (types)\n",
    "    _, type_order = ax.get_legend_handles_labels()\n",
    "    num_types = len(type_order)\n",
    "    \n",
    "    #print(len(ax.patches))\n",
    "    # Set hatches correctly: patches are grouped by x then by hue\n",
    "    for i, patch in enumerate(ax.patches):\n",
    "        #print(i)\n",
    "        type_index = i // (num_groups)\n",
    "        if type_index >= num_types:\n",
    "            break\n",
    "        type_name = type_order[type_index]\n",
    "        patch.set_hatch(hatch_map.get(type_name, ''))\n",
    "        #print(hatch_map.get(type_name, ''))\n",
    "        patch.set_edgecolor('black')\n",
    "        patch.set_linewidth(1)\n",
    "    \n",
    "    # Each num_tenants group has num_types boxes\n",
    "    for i in range(1, num_groups):\n",
    "        xpos = i - 0.5 #0.5\n",
    "        ax.axvline(x=xpos, color='gray', linestyle='--', alpha=0.5)\n",
    "    \n",
    "    \n",
    "    # Update legend with matching hatches\n",
    "    handles, labels = ax.get_legend_handles_labels()\n",
    "    for handle, label in zip(handles, labels):\n",
    "        hatch = hatch_map.get(label, '')\n",
    "        handle.set_hatch(hatch)\n",
    "        handle.set_edgecolor('black')\n",
    "        handle.set_linewidth(1)\n",
    "    \n",
    "    #title = \"Goodput [req/s] Distribution per Tenant\"\n",
    "    plt.title(title, fontsize=24)\n",
    "    plt.xlabel(\"Number of Tenants\")\n",
    "    plt.ylabel(\"\")#\"Goodput (requests/second)\")\n",
    "    plt.xlabel(\"Number of Tenants\", fontsize=18)\n",
    "    ax.tick_params(axis='both', labelsize=16)\n",
    "    plt.legend(title=\"Type\")\n",
    "    ax.legend(fontsize=18)\n",
    "    plt.tight_layout()\n",
    "    filename = \"tpch_\" + filename_prefix + sanitize_filename(title) + \".png\"    \n",
    "    plt.savefig(filename, dpi=300, bbox_inches=\"tight\")\n",
    "    plt.show()"
   ]
  },
  {
   "cell_type": "markdown",
   "id": "d4eaf03b-063a-492d-931d-50591619b849",
   "metadata": {},
   "source": [
    "# Collect Results"
   ]
  },
  {
   "cell_type": "code",
   "execution_count": 3,
   "id": "1da1f875-66a1-4dbd-a5c2-15b30793d670",
   "metadata": {},
   "outputs": [],
   "source": [
    "path = r\"C:\\data\\benchmarks\"\n",
    "#path = r\"/home/perdelt/benchmarks\"\n",
    "filename_prefix = ''"
   ]
  },
  {
   "cell_type": "code",
   "execution_count": 7,
   "id": "5ac17889-8005-49c7-9e5f-212cc94eafa1",
   "metadata": {},
   "outputs": [
    {
     "data": {
      "text/plain": [
       "26"
      ]
     },
     "execution_count": 7,
     "metadata": {},
     "output_type": "execute_result"
    }
   ],
   "source": [
    "codes = ['1751049830', '1751042932', '1751036351', '1751030495', '1751024409', '1751018248', '1751119375', '1751111813', '1751104451', '1751126280', '1751134502', '1751142830',\n",
    "         '1751150564', '1751178052', '1751186509',\n",
    "         '1751194758', # schema 6\n",
    "         '1751204267', # db 6\n",
    "         '1751223797', # container 6\n",
    "         '1751270408',\n",
    "         '1751281756',\n",
    "         #'1751270408', # schema 7\n",
    "         #'1751281756', # db 7\n",
    "         #'1751294606', # container 7\n",
    "         '1751303210', # schema 8\n",
    "         '1751315193', # db 8\n",
    "         #'1751327437', # container 8\n",
    "         '1751337551', # schema 9\n",
    "         #'1751351420', # db 9 OOM\n",
    "         '1751437705', # db 9\n",
    "         '1751359843', # schema 10\n",
    "         '1751468423', # db 10\n",
    "        ]\n"
   ]
  },
  {
   "cell_type": "code",
   "execution_count": 5,
   "id": "b9d25719-e598-4142-bc85-cd5960a89ba6",
   "metadata": {
    "scrolled": true
   },
   "outputs": [],
   "source": [
    "collect = collectors.default(path, codes)"
   ]
  },
  {
   "cell_type": "markdown",
   "id": "9d012214-4c6b-4f5f-abbf-7e0b71329762",
   "metadata": {},
   "source": [
    "# Performance Results per Tenant"
   ]
  },
  {
   "cell_type": "code",
   "execution_count": 6,
   "id": "336bbbba-8f9d-4254-b16f-f95a7bc8c2e5",
   "metadata": {
    "scrolled": true
   },
   "outputs": [
    {
     "name": "stderr",
     "output_type": "stream",
     "text": [
      "ERROR:benchmarker:Path does not exist: C:\\data\\benchmarks/1751270408\n",
      "NoneType: None\n"
     ]
    },
    {
     "ename": "FileNotFoundError",
     "evalue": "[Errno 2] No such file or directory: '/connections.config'",
     "output_type": "error",
     "traceback": [
      "\u001b[1;31m---------------------------------------------------------------------------\u001b[0m",
      "\u001b[1;31mFileNotFoundError\u001b[0m                         Traceback (most recent call last)",
      "Cell \u001b[1;32mIn[6], line 1\u001b[0m\n\u001b[1;32m----> 1\u001b[0m df_performance \u001b[38;5;241m=\u001b[39m \u001b[43mcollect\u001b[49m\u001b[38;5;241;43m.\u001b[39;49m\u001b[43mget_performance_all_single\u001b[49m\u001b[43m(\u001b[49m\u001b[43m)\u001b[49m\n\u001b[0;32m      3\u001b[0m df_performance_first \u001b[38;5;241m=\u001b[39m df_performance[df_performance[\u001b[38;5;124m'\u001b[39m\u001b[38;5;124mclient\u001b[39m\u001b[38;5;124m'\u001b[39m]\u001b[38;5;241m==\u001b[39m\u001b[38;5;124m'\u001b[39m\u001b[38;5;124m1\u001b[39m\u001b[38;5;124m'\u001b[39m]\n\u001b[0;32m      4\u001b[0m df_performance_second \u001b[38;5;241m=\u001b[39m df_performance[df_performance[\u001b[38;5;124m'\u001b[39m\u001b[38;5;124mclient\u001b[39m\u001b[38;5;124m'\u001b[39m]\u001b[38;5;241m==\u001b[39m\u001b[38;5;124m'\u001b[39m\u001b[38;5;124m2\u001b[39m\u001b[38;5;124m'\u001b[39m]\n",
      "File \u001b[1;32m~\\.conda\\envs\\dbmsbenchmarker\\Lib\\site-packages\\bexhoma\\collectors.py:257\u001b[0m, in \u001b[0;36mdefault.get_performance_all_single\u001b[1;34m(self)\u001b[0m\n\u001b[0;32m    255\u001b[0m df_performance \u001b[38;5;241m=\u001b[39m pd\u001b[38;5;241m.\u001b[39mDataFrame()\n\u001b[0;32m    256\u001b[0m \u001b[38;5;28;01mfor\u001b[39;00m code \u001b[38;5;129;01min\u001b[39;00m \u001b[38;5;28mself\u001b[39m\u001b[38;5;241m.\u001b[39mcodes:\n\u001b[1;32m--> 257\u001b[0m     evaluation \u001b[38;5;241m=\u001b[39m \u001b[38;5;28;43mself\u001b[39;49m\u001b[38;5;241;43m.\u001b[39;49m\u001b[43mget_evaluator\u001b[49m\u001b[43m(\u001b[49m\u001b[43mcode\u001b[49m\u001b[43m)\u001b[49m\n\u001b[0;32m    258\u001b[0m     workload \u001b[38;5;241m=\u001b[39m \u001b[38;5;28mself\u001b[39m\u001b[38;5;241m.\u001b[39mget_workload(code)\n\u001b[0;32m    259\u001b[0m     df \u001b[38;5;241m=\u001b[39m \u001b[38;5;28mself\u001b[39m\u001b[38;5;241m.\u001b[39mget_performance_single(evaluation)\n",
      "File \u001b[1;32m~\\.conda\\envs\\dbmsbenchmarker\\Lib\\site-packages\\bexhoma\\collectors.py:597\u001b[0m, in \u001b[0;36mdefault.get_evaluator\u001b[1;34m(self, code)\u001b[0m\n\u001b[0;32m    595\u001b[0m \u001b[38;5;28;01mdef\u001b[39;00m \u001b[38;5;21mget_evaluator\u001b[39m(\u001b[38;5;28mself\u001b[39m, code):\n\u001b[0;32m    596\u001b[0m     evaluation \u001b[38;5;241m=\u001b[39m inspector\u001b[38;5;241m.\u001b[39minspector(\u001b[38;5;28mself\u001b[39m\u001b[38;5;241m.\u001b[39mpath)\n\u001b[1;32m--> 597\u001b[0m     \u001b[43mevaluation\u001b[49m\u001b[38;5;241;43m.\u001b[39;49m\u001b[43mload_experiment\u001b[49m\u001b[43m(\u001b[49m\u001b[43mcode\u001b[49m\u001b[38;5;241;43m=\u001b[39;49m\u001b[43mcode\u001b[49m\u001b[43m,\u001b[49m\u001b[43m \u001b[49m\u001b[43msilent\u001b[49m\u001b[38;5;241;43m=\u001b[39;49m\u001b[38;5;28;43;01mTrue\u001b[39;49;00m\u001b[43m)\u001b[49m\n\u001b[0;32m    598\u001b[0m     evaluation\u001b[38;5;241m.\u001b[39mcode \u001b[38;5;241m=\u001b[39m code\n\u001b[0;32m    599\u001b[0m     \u001b[38;5;28;01mreturn\u001b[39;00m evaluation\n",
      "File \u001b[1;32m~\\.conda\\envs\\dbmsbenchmarker\\Lib\\site-packages\\dbmsbenchmarker\\inspector.py:150\u001b[0m, in \u001b[0;36minspector.load_experiment\u001b[1;34m(self, code, anonymize, load, silent)\u001b[0m\n\u001b[0;32m    148\u001b[0m \u001b[38;5;66;03m# TODO: force clean dbms aliases\u001b[39;00m\n\u001b[0;32m    149\u001b[0m \u001b[38;5;28mself\u001b[39m\u001b[38;5;241m.\u001b[39mqueries_successful \u001b[38;5;241m=\u001b[39m []\n\u001b[1;32m--> 150\u001b[0m \u001b[38;5;28mself\u001b[39m\u001b[38;5;241m.\u001b[39mbenchmarks \u001b[38;5;241m=\u001b[39m \u001b[43mbenchmarker\u001b[49m\u001b[38;5;241;43m.\u001b[39;49m\u001b[43minspector\u001b[49m\u001b[43m(\u001b[49m\u001b[38;5;28;43mself\u001b[39;49m\u001b[38;5;241;43m.\u001b[39;49m\u001b[43mresult_path\u001b[49m\u001b[43m,\u001b[49m\u001b[43m \u001b[49m\u001b[43mcode\u001b[49m\u001b[43m,\u001b[49m\u001b[43m \u001b[49m\u001b[43manonymize\u001b[49m\u001b[38;5;241;43m=\u001b[39;49m\u001b[38;5;28;43mself\u001b[39;49m\u001b[38;5;241;43m.\u001b[39;49m\u001b[43manonymize\u001b[49m\u001b[43m,\u001b[49m\u001b[43m \u001b[49m\u001b[43msilent\u001b[49m\u001b[38;5;241;43m=\u001b[39;49m\u001b[43msilent\u001b[49m\u001b[43m)\u001b[49m\n\u001b[0;32m    151\u001b[0m \u001b[38;5;28mself\u001b[39m\u001b[38;5;241m.\u001b[39mbenchmarks\u001b[38;5;241m.\u001b[39mcomputeTimerRun()\n\u001b[0;32m    152\u001b[0m \u001b[38;5;28mself\u001b[39m\u001b[38;5;241m.\u001b[39mbenchmarks\u001b[38;5;241m.\u001b[39mcomputeTimerSession()\n",
      "File \u001b[1;32m~\\.conda\\envs\\dbmsbenchmarker\\Lib\\site-packages\\dbmsbenchmarker\\benchmarker.py:2057\u001b[0m, in \u001b[0;36minspector.__init__\u001b[1;34m(self, result_path, code, anonymize, silent)\u001b[0m\n\u001b[0;32m   2055\u001b[0m path \u001b[38;5;241m=\u001b[39m (result_path\u001b[38;5;241m+\u001b[39m\u001b[38;5;124m\"\u001b[39m\u001b[38;5;124m/\u001b[39m\u001b[38;5;124m\"\u001b[39m\u001b[38;5;241m+\u001b[39m\u001b[38;5;28mstr\u001b[39m(code))\u001b[38;5;241m.\u001b[39mreplace(\u001b[38;5;124m\"\u001b[39m\u001b[38;5;124m//\u001b[39m\u001b[38;5;124m\"\u001b[39m, \u001b[38;5;124m\"\u001b[39m\u001b[38;5;124m/\u001b[39m\u001b[38;5;124m\"\u001b[39m)\n\u001b[0;32m   2056\u001b[0m benchmarker\u001b[38;5;241m.\u001b[39m\u001b[38;5;21m__init__\u001b[39m(\u001b[38;5;28mself\u001b[39m,result_path\u001b[38;5;241m=\u001b[39mpath, anonymize\u001b[38;5;241m=\u001b[39manonymize)\n\u001b[1;32m-> 2057\u001b[0m \u001b[38;5;28;43mself\u001b[39;49m\u001b[38;5;241;43m.\u001b[39;49m\u001b[43mgetConfig\u001b[49m\u001b[43m(\u001b[49m\u001b[43m)\u001b[49m\n\u001b[0;32m   2058\u001b[0m \u001b[38;5;28mself\u001b[39m\u001b[38;5;241m.\u001b[39mreadResultfolder(silent\u001b[38;5;241m=\u001b[39msilent)\n\u001b[0;32m   2059\u001b[0m \u001b[38;5;28;01mif\u001b[39;00m \u001b[38;5;129;01mnot\u001b[39;00m silent:\n",
      "File \u001b[1;32m~\\.conda\\envs\\dbmsbenchmarker\\Lib\\site-packages\\dbmsbenchmarker\\benchmarker.py:589\u001b[0m, in \u001b[0;36mbenchmarker.getConfig\u001b[1;34m(self, configfolder, connectionfile, queryfile)\u001b[0m\n\u001b[0;32m    584\u001b[0m     \u001b[38;5;28mself\u001b[39m\u001b[38;5;241m.\u001b[39mgetQueriesFromFile(configfolder\u001b[38;5;241m+\u001b[39m\u001b[38;5;124m'\u001b[39m\u001b[38;5;124m/\u001b[39m\u001b[38;5;124m'\u001b[39m\u001b[38;5;241m+\u001b[39mqueryfile)\n\u001b[0;32m    585\u001b[0m \u001b[38;5;66;03m#elif self.resultfolder_base is not None:\u001b[39;00m\n\u001b[0;32m    586\u001b[0m \u001b[38;5;66;03m#   self.getConnectionsFromFile(self.resultfolder_base+'/connections.config')\u001b[39;00m\n\u001b[0;32m    587\u001b[0m \u001b[38;5;66;03m#   self.getQueriesFromFile(self.resultfolder_base+'/queries.config')\u001b[39;00m\n\u001b[0;32m    588\u001b[0m \u001b[38;5;28;01melse\u001b[39;00m:\n\u001b[1;32m--> 589\u001b[0m     \u001b[38;5;28;43mself\u001b[39;49m\u001b[38;5;241;43m.\u001b[39;49m\u001b[43mgetConnectionsFromFile\u001b[49m\u001b[43m(\u001b[49m\u001b[43mconnectionfile\u001b[49m\u001b[43m)\u001b[49m\n\u001b[0;32m    590\u001b[0m     \u001b[38;5;28mself\u001b[39m\u001b[38;5;241m.\u001b[39mgetQueriesFromFile(queryfile)\n",
      "File \u001b[1;32m~\\.conda\\envs\\dbmsbenchmarker\\Lib\\site-packages\\dbmsbenchmarker\\benchmarker.py:723\u001b[0m, in \u001b[0;36mbenchmarker.getConnectionsFromFile\u001b[1;34m(self, filename)\u001b[0m\n\u001b[0;32m    721\u001b[0m         exit(\u001b[38;5;241m1\u001b[39m)\n\u001b[0;32m    722\u001b[0m \u001b[38;5;66;03m# read from file\u001b[39;00m\n\u001b[1;32m--> 723\u001b[0m \u001b[38;5;28;01mwith\u001b[39;00m \u001b[38;5;28mopen\u001b[39m(filename,\u001b[38;5;124m'\u001b[39m\u001b[38;5;124mr\u001b[39m\u001b[38;5;124m'\u001b[39m) \u001b[38;5;28;01mas\u001b[39;00m inf:\n\u001b[0;32m    724\u001b[0m     \u001b[38;5;28mself\u001b[39m\u001b[38;5;241m.\u001b[39mconnections \u001b[38;5;241m=\u001b[39m ast\u001b[38;5;241m.\u001b[39mliteral_eval(inf\u001b[38;5;241m.\u001b[39mread())\n\u001b[0;32m    725\u001b[0m \u001b[38;5;66;03m# add all dbms\u001b[39;00m\n",
      "\u001b[1;31mFileNotFoundError\u001b[0m: [Errno 2] No such file or directory: '/connections.config'"
     ]
    }
   ],
   "source": [
    "df_performance = collect.get_performance_all_single()\n",
    "\n",
    "df_performance_first = df_performance[df_performance['client']=='1']\n",
    "df_performance_second = df_performance[df_performance['client']=='2']\n",
    "\n",
    "df_performance"
   ]
  },
  {
   "cell_type": "code",
   "execution_count": null,
   "id": "0b5fb753-6d76-40e0-9bdb-5d8dbe74197a",
   "metadata": {},
   "outputs": [],
   "source": [
    "plot_boxplots(df_performance_first, y='Throughput@Size', title='Throughput@Size Distribution per tenant')"
   ]
  },
  {
   "cell_type": "code",
   "execution_count": null,
   "id": "2ed63d7e-7f75-4084-bdb4-723d36e07c64",
   "metadata": {},
   "outputs": [],
   "source": [
    "plot_boxplots(df_performance_first, y='Power@Size [~Q/h]', title='Power@Size Distribution per tenant')"
   ]
  },
  {
   "cell_type": "markdown",
   "id": "4b231200-5387-4b00-bd90-b241f222a180",
   "metadata": {},
   "source": [
    "# Performance Results per Total"
   ]
  },
  {
   "cell_type": "code",
   "execution_count": null,
   "id": "e54fd103-35d8-4a8c-be95-ed7a12893d45",
   "metadata": {
    "scrolled": true
   },
   "outputs": [],
   "source": [
    "df_performance = collect.get_performance_all()\n",
    "\n",
    "df_performance_first = df_performance[df_performance['client']=='1']\n",
    "df_performance_second = df_performance[df_performance['client']=='2']\n",
    "\n",
    "df_performance"
   ]
  },
  {
   "cell_type": "code",
   "execution_count": null,
   "id": "02407995-61d4-4578-8933-eed3b074cc67",
   "metadata": {},
   "outputs": [],
   "source": [
    "plot_bars(df_performance, y='Throughput@Size', title='Throughput@Size', estimator='min')"
   ]
  },
  {
   "cell_type": "code",
   "execution_count": null,
   "id": "4ff28e50-bb91-48da-9340-49d494135166",
   "metadata": {},
   "outputs": [],
   "source": [
    "plot_bars(df_performance, y='Power@Size [~Q/h]', title='Power@Size', estimator='min')"
   ]
  },
  {
   "cell_type": "code",
   "execution_count": null,
   "id": "9c76894c-11b9-4296-be15-622852d5d001",
   "metadata": {
    "scrolled": true
   },
   "outputs": [],
   "source": [
    "df_performance = collect.get_loading_time_max_all()\n",
    "\n",
    "df_performance_first = df_performance[df_performance['client']=='1']\n",
    "df_performance_second = df_performance[df_performance['client']=='2']\n",
    "\n",
    "df_performance"
   ]
  },
  {
   "cell_type": "code",
   "execution_count": null,
   "id": "1c57ba68-0aed-4e7c-9fa7-581092d6f33b",
   "metadata": {},
   "outputs": [],
   "source": [
    "df_performance_first = df_performance[df_performance['client'] == '1']\n",
    "# Divide datadisk by the count of rows with the same type and num_tenants\n",
    "df = df_performance_first.copy()\n",
    "# Create a mask for rows where type is not \"container\"\n",
    "mask = df['type'] != 'container'\n",
    "\n",
    "# Only apply the group count to the relevant rows\n",
    "group_counts = df[mask].groupby(['type', 'num_tenants'])['datadisk'].transform('count')\n",
    "\n",
    "# Initialize the column with NaN (or 0, if preferred)\n",
    "df['datadisk_normalized'] = df['datadisk'] / 1024\n",
    "\n",
    "# Apply the normalized value only where the mask is True\n",
    "df.loc[mask, 'datadisk_normalized'] = df.loc[mask, 'datadisk'] / group_counts / 1024\n",
    "\n",
    "plot_bars(df, y='datadisk_normalized', title='Database Size [GB]', estimator='sum')"
   ]
  },
  {
   "cell_type": "code",
   "execution_count": null,
   "id": "d9a2253e",
   "metadata": {},
   "outputs": [],
   "source": [
    "plot_bars(df_performance_first, y='time_ingest', title='Time for Ingestion [s]', estimator='max')"
   ]
  },
  {
   "cell_type": "code",
   "execution_count": null,
   "id": "7398cedd-1d59-4a8d-82ea-6c7c5f4e8d4b",
   "metadata": {},
   "outputs": [],
   "source": [
    "plot_bars(df_performance_first, y='time_check', title='Time for Indexing [s]', estimator='max')"
   ]
  },
  {
   "cell_type": "markdown",
   "id": "df5526a0-cf4f-4485-a4c9-d96d1e78e46c",
   "metadata": {},
   "source": [
    "# Hardware Monitoring for Benchmarking Phase"
   ]
  },
  {
   "cell_type": "code",
   "execution_count": null,
   "id": "f204f33b-c25d-4260-a316-a8390aaa7355",
   "metadata": {
    "scrolled": true
   },
   "outputs": [],
   "source": [
    "df_performance = collect.get_monitoring_all(type=\"stream\")\n",
    "\n",
    "df_performance_first = df_performance[df_performance['client']=='1']\n",
    "df_performance_second = df_performance[df_performance['client']=='2']\n",
    "\n",
    "df_performance"
   ]
  },
  {
   "cell_type": "code",
   "execution_count": null,
   "id": "508a566d-58d2-4b01-ad3e-1761d13c3611",
   "metadata": {},
   "outputs": [],
   "source": [
    "plot_bars(df_performance, y='CPU [CPUs]', title='CPU [CPUs]', estimator='max')"
   ]
  },
  {
   "cell_type": "code",
   "execution_count": null,
   "id": "0ea6aeb9",
   "metadata": {},
   "outputs": [],
   "source": [
    "plot_bars(df_performance, y='Max CPU', title='Max CPU', estimator='sum')"
   ]
  },
  {
   "cell_type": "code",
   "execution_count": null,
   "id": "295e7a9f-7581-4591-9f0c-18fea2a298dc",
   "metadata": {},
   "outputs": [],
   "source": [
    "plot_bars(df_performance, y='Max RAM Cached [Gb]', title='Max RAM Cached [Gb]', estimator='sum')"
   ]
  },
  {
   "cell_type": "code",
   "execution_count": null,
   "id": "481b4ab8-d963-4e95-8221-92eff718b30c",
   "metadata": {},
   "outputs": [],
   "source": [
    "plot_bars(df_performance, y='Max RAM [Gb]', title='Max RAM [Gb]', estimator='sum')"
   ]
  },
  {
   "cell_type": "markdown",
   "id": "a9672982-4f64-4fd9-9dac-2c468fa43dfa",
   "metadata": {},
   "source": [
    "# Hardware Monitoring for Loading Phase"
   ]
  },
  {
   "cell_type": "code",
   "execution_count": null,
   "id": "4b0ea32e-78eb-4ad7-a2e3-a89f6cf53322",
   "metadata": {
    "scrolled": true
   },
   "outputs": [],
   "source": [
    "df_performance = collect.get_monitoring_all(\"loading\")\n",
    "\n",
    "df_performance_first = df_performance[df_performance['client']=='1']\n",
    "df_performance_second = df_performance[df_performance['client']=='2']\n",
    "\n",
    "df_performance"
   ]
  },
  {
   "cell_type": "code",
   "execution_count": null,
   "id": "92956392-3a2f-41e0-be7d-5d1aea61396c",
   "metadata": {},
   "outputs": [],
   "source": [
    "plot_bars(df_performance, y='CPU [CPUs]', title='CPU [CPUs]', estimator='max')"
   ]
  },
  {
   "cell_type": "code",
   "execution_count": null,
   "id": "13313b7d-99c8-4b0c-a9d3-b178c68cde6e",
   "metadata": {},
   "outputs": [],
   "source": [
    "plot_bars(df_performance, y='Max RAM [Gb]', title='Max RAM [Gb]', estimator='sum')"
   ]
  },
  {
   "cell_type": "markdown",
   "id": "e7b01624-ea9f-4be5-b201-92588fb34d2e",
   "metadata": {},
   "source": [
    "# Efficiency"
   ]
  },
  {
   "cell_type": "code",
   "execution_count": null,
   "id": "c4220279-d0c0-4e1a-a909-38d7c42a334c",
   "metadata": {},
   "outputs": [],
   "source": [
    "client = 1\n",
    "\n",
    "df_performance_monitoring = collect.get_monitoring_all(type=\"stream\")\n",
    "df_performance_monitoring[\"client\"] = df_performance_monitoring[\"client\"].astype(int)\n",
    "df_performance_monitoring = df_performance_monitoring[df_performance_monitoring['client'] == client]\n",
    "df_performance = collect.get_performance_all()\n",
    "df_performance[\"client\"] = df_performance[\"client\"].astype(int)\n",
    "df_performance = df_performance[df_performance['client'] == client]\n",
    "merged_df = pd.merge(df_performance, df_performance_monitoring, on=['type', 'num_tenants', 'client'], how='inner')\n",
    "merged_df['RAM/Throughput'] = merged_df['Max RAM [Gb]'] / (merged_df['Throughput@Size'])\n",
    "merged_df['CPUs/Throughput'] = merged_df['CPU [CPUs]'] / (merged_df['Throughput@Size'] / 3600.)\n",
    "#merged_df['E_RAM'] = (merged_df['Throughput@Size']) / merged_df['Max RAM [Gb]']\n",
    "#merged_df['E_CPU'] = (merged_df['Throughput@Size'] * 3600.) / merged_df['CPU [CPUs]']\n",
    "merged_df['E_CPU'] = (10. * merged_df['num_tenants'] * merged_df['num_of_queries'] * merged_df['SF']) / merged_df['CPU [CPUs]']\n",
    "merged_df['E_RAM'] = (10. * merged_df['num_tenants'] * merged_df['num_of_queries'] * merged_df['SF']) / merged_df['Max RAM [Gb]']\n",
    "\n",
    "merged_df"
   ]
  },
  {
   "cell_type": "code",
   "execution_count": null,
   "id": "eea1546b-2bcc-4447-a2ee-4a6badb86f08",
   "metadata": {},
   "outputs": [],
   "source": [
    "plot_bars(merged_df, y='E_CPU', title='1st run - $E_{CPU}$', estimator='max')"
   ]
  },
  {
   "cell_type": "code",
   "execution_count": null,
   "id": "c1e6efa9-da9b-4df3-90d1-981bc4e44dc0",
   "metadata": {},
   "outputs": [],
   "source": [
    "plot_bars(merged_df, y='E_RAM', title='1st run - $E_{RAM}$', estimator='max')"
   ]
  },
  {
   "cell_type": "code",
   "execution_count": null,
   "id": "b1eb8a57-8f40-45a3-aefa-22a756048d13",
   "metadata": {},
   "outputs": [],
   "source": [
    "client = 2\n",
    "\n",
    "df_performance_monitoring = collect.get_monitoring_all(type=\"stream\")\n",
    "df_performance_monitoring[\"client\"] = df_performance_monitoring[\"client\"].astype(int)\n",
    "df_performance_monitoring = df_performance_monitoring[df_performance_monitoring['client'] == client]\n",
    "df_performance = collect.get_performance_all()\n",
    "df_performance[\"client\"] = df_performance[\"client\"].astype(int)\n",
    "df_performance = df_performance[df_performance['client'] == client]\n",
    "merged_df = pd.merge(df_performance, df_performance_monitoring, on=['type', 'num_tenants', 'client'], how='inner')\n",
    "merged_df['RAM/Throughput'] = merged_df['Max RAM [Gb]'] / (merged_df['Throughput@Size'])\n",
    "merged_df['CPUs/Throughput'] = merged_df['CPU [CPUs]'] / (merged_df['Throughput@Size'] / 3600.)\n",
    "#merged_df['E_RAM'] = (merged_df['Throughput@Size']) / merged_df['Max RAM [Gb]']\n",
    "#merged_df['E_CPU'] = (merged_df['Throughput@Size'] * 3600.) / merged_df['CPU [CPUs]']\n",
    "merged_df['E_CPU'] = (10. * merged_df['num_tenants'] * merged_df['num_of_queries'] * merged_df['SF']) / merged_df['CPU [CPUs]']\n",
    "merged_df['E_RAM'] = (10. * merged_df['num_tenants'] * merged_df['num_of_queries'] * merged_df['SF']) / merged_df['Max RAM [Gb]']\n",
    "\n",
    "merged_df"
   ]
  },
  {
   "cell_type": "code",
   "execution_count": null,
   "id": "660579eb-cefd-4278-8865-e9554992b895",
   "metadata": {},
   "outputs": [],
   "source": [
    "plot_bars(merged_df, y='E_CPU', title='2nd run - $E_{CPU}$', estimator='max')"
   ]
  },
  {
   "cell_type": "code",
   "execution_count": null,
   "id": "0cef3ffc-c1d9-4182-8018-0847cb386d08",
   "metadata": {},
   "outputs": [],
   "source": [
    "plot_bars(merged_df, y='E_RAM', title='2nd run - $E_{RAM}$', estimator='max')"
   ]
  },
  {
   "cell_type": "code",
   "execution_count": null,
   "id": "067df713-8599-4c31-81b2-63d1d92d2ed4",
   "metadata": {},
   "outputs": [],
   "source": [
    "import os\n",
    "import zipfile\n",
    "\n",
    "def zip_all_results():\n",
    "    # Set the base directory containing the folders\n",
    "    base_dir = path # \"/path/to/your/folders\"  # CHANGE THIS to your actual directory\n",
    "    # List all folder names in the directory\n",
    "    folder_names = codes\n",
    "    # Create a zip for each folder\n",
    "    for folder in folder_names:\n",
    "        folder_path = os.path.join(base_dir, folder)\n",
    "        zip_path = os.path.join(base_dir, f\"{folder}.zip\")\n",
    "        print(f\"Zipping {folder_path} to {zip_path}...\")\n",
    "        with zipfile.ZipFile(zip_path, 'w', zipfile.ZIP_DEFLATED) as zipf:\n",
    "            for root, _, files in os.walk(folder_path):\n",
    "                for file in files:\n",
    "                    abs_path = os.path.join(root, file)\n",
    "                    rel_path = os.path.relpath(abs_path, folder_path)\n",
    "                    zipf.write(abs_path, arcname=os.path.join(folder, rel_path))\n",
    "    print(\"✅ Done zipping all folders.\")\n"
   ]
  },
  {
   "cell_type": "code",
   "execution_count": null,
   "id": "4dfa18cd-e2f7-468f-979e-ebaf6c637c78",
   "metadata": {},
   "outputs": [],
   "source": [
    "#zip_all_results()"
   ]
  },
  {
   "cell_type": "code",
   "execution_count": null,
   "id": "8559e114-b083-4e1b-b1ce-0c0b87608610",
   "metadata": {},
   "outputs": [],
   "source": []
  }
 ],
 "metadata": {
  "kernelspec": {
   "display_name": "Python 3 (ipykernel)",
   "language": "python",
   "name": "python3"
  },
  "language_info": {
   "codemirror_mode": {
    "name": "ipython",
    "version": 3
   },
   "file_extension": ".py",
   "mimetype": "text/x-python",
   "name": "python",
   "nbconvert_exporter": "python",
   "pygments_lexer": "ipython3",
   "version": "3.11.9"
  }
 },
 "nbformat": 4,
 "nbformat_minor": 5
}
